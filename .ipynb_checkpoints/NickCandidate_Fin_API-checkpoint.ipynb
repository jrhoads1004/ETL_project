{
 "cells": [
  {
   "cell_type": "code",
   "execution_count": 27,
   "metadata": {},
   "outputs": [],
   "source": [
    "import os\n",
    "import pandas as pd\n",
    "import json\n",
    "import requests\n",
    "from pandas.io.json import json_normalize\n",
    "from pprint import pprint\n",
    "import sqlite3\n",
    "\n",
    "# API keys\n",
    "from config import api_key"
   ]
  },
  {
   "cell_type": "code",
   "execution_count": 30,
   "metadata": {},
   "outputs": [
    {
     "data": {
      "text/plain": [
       "candidate_election_year      int64\n",
       "candidate_id                object\n",
       "candidate_name              object\n",
       "party_full                  object\n",
       "total_receipts             float64\n",
       "total_disbursements        float64\n",
       "cash_on_hand_end_period    float64\n",
       "dtype: object"
      ]
     },
     "execution_count": 30,
     "metadata": {},
     "output_type": "execute_result"
    }
   ],
   "source": [
    "# Save config information\n",
    "year = 1992\n",
    "url = f\"https://api.open.fec.gov/v1/elections/?api_key={api_key}&sort=-total_receipts&sort_hide_null=false&office=president&election_full=true&sort_null_only=false&cycle={year}&sort_nulls_last=false&page=1\"\n",
    "\n",
    "# read data from the API \n",
    "response = requests.get(url).json()\n",
    "# pprint(response)\n",
    "\n",
    "# convert JSON to dataframe\n",
    "candidate_finance = pd.json_normalize(response, \"results\")\n",
    "# print(candidate_finance.shape)\n",
    "\n",
    "for yr in range(year + 4, 2017, 4):\n",
    "    url = f\"https://api.open.fec.gov/v1/elections/?api_key={api_key}&sort=-total_receipts&sort_hide_null=false&office=president&election_full=true&sort_null_only=false&cycle={yr}&sort_nulls_last=false&page=1\"\n",
    "    response = requests.get(url).json()\n",
    "    sub_df = pd.json_normalize(response, \"results\")\n",
    "    candidate_finance.head(2)\n",
    "#     print(f\"{yr} {type(sub_df)}  ================================\")\n",
    "    candidate_finance = candidate_finance.append(sub_df, ignore_index=True)\n",
    "    \n",
    "# Format dataframe\n",
    "candidate_finance = candidate_finance[['candidate_election_year', 'candidate_id', 'candidate_name', 'party_full', 'total_receipts', 'total_disbursements', 'cash_on_hand_end_period']]\n",
    "candidate_finance.style.format({\"total_receipts\": '${0:,.2f}',\n",
    "                                \"total_disbursements\": '${0:,.2f}',\n",
    "                                \"cash_on_hand_end_period\": '${0:,.2f}',})\n",
    "\n",
    "candidate_finance.dtypes"
   ]
  },
  {
   "cell_type": "code",
   "execution_count": 34,
   "metadata": {},
   "outputs": [
    {
     "name": "stdout",
     "output_type": "stream",
     "text": [
      "(2012, 'P80003338', 'OBAMA, BARACK', 'DEMOCRATIC PARTY', 742601913.88, 757574968.34, 3299312.93)\n",
      "(2012, 'P80003353', 'ROMNEY, MITT / RYAN, PAUL D. ', 'REPUBLICAN PARTY', 483642897.19, 483292209.77, 383275.27)\n",
      "(2012, 'P80000748', 'PAUL, RON', 'REPUBLICAN PARTY', 41064074.11, 40495369.56, 1147671.75)\n",
      "(2012, 'P60003654', 'GINGRICH, NEWT', 'REPUBLICAN PARTY', 24976120.46, 24900556.09, 75564.37)\n",
      "(2012, 'P20002721', 'SANTORUM, RICHARD J.', 'REPUBLICAN PARTY', 23552730.52, 23426456.81, 126273.71)\n",
      "(2012, 'P20003281', 'PERRY, JAMES R (RICK)', 'REPUBLICAN PARTY', 20593581.15, 20199068.69, 394512.46)\n",
      "(2012, 'P00003608', 'CAIN, HERMAN', 'REPUBLICAN PARTY', 16917976.94, 16913859.48, 4117.46)\n",
      "(2012, 'P20002184', 'HERMAN, RAPHAEL', 'DEMOCRATIC PARTY', 16414018.0, 16414018.0, 0.0)\n",
      "(2012, 'P20003067', 'HUNTSMAN, JON', 'REPUBLICAN PARTY', 9173365.13, 9173365.13, 0.0)\n",
      "(2012, 'P20002556', 'PAWLENTY, TIMOTHY', 'REPUBLICAN PARTY', 5965502.16, 5965502.16, 0.0)\n",
      "(2012, 'P20002671', 'JOHNSON, GARY EARL', 'LIBERTARIAN PARTY', 2796591.1, 2752658.16, 43932.94)\n",
      "(2012, 'P20003984', 'STEIN, JILL', 'GREEN PARTY', 1263540.87, 1122027.96, 141512.91)\n",
      "(2012, 'P20002523', \"ROEMER, CHARLES E. ''BUDDY'' III\", 'OTHER', 780900.91, 739453.36, 41447.55)\n",
      "(2012, 'P20002564', 'KARGER, FRED', 'REPUBLICAN PARTY', 588437.17, 591271.9, 0.0)\n",
      "(2012, 'P20003109', 'MCCOTTER, THADDEUS G', 'REPUBLICAN PARTY', 550437.19, 549822.09, 615.1)\n",
      "(2012, 'P20002424', 'TERRY, RANDALL A', 'INDEPENDENT', 509814.27, 502083.04, 7731.23)\n",
      "(2012, 'P20002325', 'DAVIS, L JOHN JR', 'REPUBLICAN PARTY', 444348.88, 444348.17, 0.0)\n",
      "(2012, 'P20004685', 'GOODE, VIRGIL H JR', 'CONSTITUTION PARTY', 202258.22, 202253.35, 4.87)\n",
      "(2012, 'P20003885', 'HAYWOOD, JOHN DAVIS', 'DEMOCRATIC PARTY', 135395.91, 135395.29, 2181.68)\n",
      "(2012, 'P80003114', 'BLYTH, JOHN DOUGLAS', 'INDEPENDENT', 109987.24, 123973.24, 0.0)\n"
     ]
    }
   ],
   "source": [
    "conn = sqlite3.connect('ETL_project.db')\n",
    "c = conn.cursor()\n",
    "\n",
    "c.execute(\"DROP TABLE IF EXISTS Finance\")\n",
    "c.execute('CREATE TABLE Finance (candidate_election_year number, candidate_id text, candidate_name text, party_full text, total_receipts number, total_disbursements number, cash_on_hand_end_period number)')\n",
    "conn.commit()\n",
    "\n",
    "candidate_finance.to_sql('Finance', conn, if_exists='replace', index = False)\n",
    "\n",
    "\n",
    "c.execute(\"SELECT * FROM Finance WHERE candidate_election_year = 2012\")\n",
    "\n",
    "for row in c.fetchall():\n",
    "    print (row)"
   ]
  },
  {
   "cell_type": "code",
   "execution_count": null,
   "metadata": {},
   "outputs": [],
   "source": []
  },
  {
   "cell_type": "code",
   "execution_count": null,
   "metadata": {},
   "outputs": [],
   "source": []
  }
 ],
 "metadata": {
  "kernelspec": {
   "display_name": "Python 3",
   "language": "python",
   "name": "python3"
  },
  "language_info": {
   "codemirror_mode": {
    "name": "ipython",
    "version": 3
   },
   "file_extension": ".py",
   "mimetype": "text/x-python",
   "name": "python",
   "nbconvert_exporter": "python",
   "pygments_lexer": "ipython3",
   "version": "3.7.6"
  }
 },
 "nbformat": 4,
 "nbformat_minor": 4
}
