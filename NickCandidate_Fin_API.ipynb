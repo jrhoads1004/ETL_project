{
 "cells": [
  {
   "cell_type": "code",
   "execution_count": 27,
   "metadata": {},
   "outputs": [],
   "source": [
    "import os\n",
    "import pandas as pd\n",
    "import json\n",
    "import requests\n",
    "from pandas.io.json import json_normalize\n",
    "from pprint import pprint\n",
    "import sqlite3\n",
    "\n",
    "# API keys\n",
    "from config import api_key"
   ]
  },
  {
   "cell_type": "code",
   "execution_count": 30,
   "metadata": {},
   "outputs": [
    {
     "data": {
      "text/plain": [
       "candidate_election_year      int64\n",
       "candidate_id                object\n",
       "candidate_name              object\n",
       "party_full                  object\n",
       "total_receipts             float64\n",
       "total_disbursements        float64\n",
       "cash_on_hand_end_period    float64\n",
       "dtype: object"
      ]
     },
     "execution_count": 30,
     "metadata": {},
     "output_type": "execute_result"
    }
   ],
   "source": [
    "# Save config information\n",
    "year = 1992\n",
    "url = f\"https://api.open.fec.gov/v1/elections/?api_key={api_key}&sort=-total_receipts&sort_hide_null=false&office=president&election_full=true&sort_null_only=false&cycle={year}&sort_nulls_last=false&page=1\"\n",
    "\n",
    "# read data from the API \n",
    "response = requests.get(url).json()\n",
    "# pprint(response)\n",
    "\n",
    "# convert JSON to dataframe\n",
    "candidate_finance = pd.json_normalize(response, \"results\")\n",
    "# print(candidate_finance.shape)\n",
    "\n",
    "for yr in range(year + 4, 2017, 4):\n",
    "    url = f\"https://api.open.fec.gov/v1/elections/?api_key={api_key}&sort=-total_receipts&sort_hide_null=false&office=president&election_full=true&sort_null_only=false&cycle={yr}&sort_nulls_last=false&page=1\"\n",
    "    response = requests.get(url).json()\n",
    "    sub_df = pd.json_normalize(response, \"results\")\n",
    "    candidate_finance.head(2)\n",
    "#     print(f\"{yr} {type(sub_df)}  ================================\")\n",
    "    candidate_finance = candidate_finance.append(sub_df, ignore_index=True)\n",
    "    \n",
    "# Format dataframe\n",
    "candidate_finance = candidate_finance[['candidate_election_year', 'candidate_id', 'candidate_name', 'party_full', 'total_receipts', 'total_disbursements', 'cash_on_hand_end_period']]\n",
    "candidate_finance.style.format({\"total_receipts\": '${0:,.2f}',\n",
    "                                \"total_disbursements\": '${0:,.2f}',\n",
    "                                \"cash_on_hand_end_period\": '${0:,.2f}',})\n",
    "\n",
    "candidate_finance.dtypes"
   ]
  },
  {
   "cell_type": "code",
   "execution_count": 34,
   "metadata": {},
   "outputs": [
    {
     "name": "stdout",
     "output_type": "stream",
     "text": [
      "(2012, 'P80003338', 'OBAMA, BARACK', 'DEMOCRATIC PARTY', 742601913.88, 757574968.34, 3299312.93)\n",
      "(2012, 'P80003353', 'ROMNEY, MITT / RYAN, PAUL D. ', 'REPUBLICAN PARTY', 483642897.19, 483292209.77, 383275.27)\n",
      "(2012, 'P80000748', 'PAUL, RON', 'REPUBLICAN PARTY', 41064074.11, 40495369.56, 1147671.75)\n",
      "(2012, 'P60003654', 'GINGRICH, NEWT', 'REPUBLICAN PARTY', 24976120.46, 24900556.09, 75564.37)\n",
      "(2012, 'P20002721', 'SANTORUM, RICHARD J.', 'REPUBLICAN PARTY', 23552730.52, 23426456.81, 126273.71)\n",
      "(2012, 'P20003281', 'PERRY, JAMES R (RICK)', 'REPUBLICAN PARTY', 20593581.15, 20199068.69, 394512.46)\n",
      "(2012, 'P00003608', 'CAIN, HERMAN', 'REPUBLICAN PARTY', 16917976.94, 16913859.48, 4117.46)\n",
      "(2012, 'P20002184', 'HERMAN, RAPHAEL', 'DEMOCRATIC PARTY', 16414018.0, 16414018.0, 0.0)\n",
      "(2012, 'P20003067', 'HUNTSMAN, JON', 'REPUBLICAN PARTY', 9173365.13, 9173365.13, 0.0)\n",
      "(2012, 'P20002556', 'PAWLENTY, TIMOTHY', 'REPUBLICAN PARTY', 5965502.16, 5965502.16, 0.0)\n",
      "(2012, 'P20002671', 'JOHNSON, GARY EARL', 'LIBERTARIAN PARTY', 2796591.1, 2752658.16, 43932.94)\n",
      "(2012, 'P20003984', 'STEIN, JILL', 'GREEN PARTY', 1263540.87, 1122027.96, 141512.91)\n",
      "(2012, 'P20002523', \"ROEMER, CHARLES E. ''BUDDY'' III\", 'OTHER', 780900.91, 739453.36, 41447.55)\n",
      "(2012, 'P20002564', 'KARGER, FRED', 'REPUBLICAN PARTY', 588437.17, 591271.9, 0.0)\n",
      "(2012, 'P20003109', 'MCCOTTER, THADDEUS G', 'REPUBLICAN PARTY', 550437.19, 549822.09, 615.1)\n",
      "(2012, 'P20002424', 'TERRY, RANDALL A', 'INDEPENDENT', 509814.27, 502083.04, 7731.23)\n",
      "(2012, 'P20002325', 'DAVIS, L JOHN JR', 'REPUBLICAN PARTY', 444348.88, 444348.17, 0.0)\n",
      "(2012, 'P20004685', 'GOODE, VIRGIL H JR', 'CONSTITUTION PARTY', 202258.22, 202253.35, 4.87)\n",
      "(2012, 'P20003885', 'HAYWOOD, JOHN DAVIS', 'DEMOCRATIC PARTY', 135395.91, 135395.29, 2181.68)\n",
      "(2012, 'P80003114', 'BLYTH, JOHN DOUGLAS', 'INDEPENDENT', 109987.24, 123973.24, 0.0)\n"
     ]
    }
   ],
   "source": [
    "conn = sqlite3.connect('ETL_project.db')\n",
    "c = conn.cursor()\n",
    "\n",
    "c.execute(\"DROP TABLE IF EXISTS Finance\")\n",
    "c.execute('CREATE TABLE Finance (candidate_election_year number, candidate_id text, candidate_name text, party_full text, total_receipts number, total_disbursements number, cash_on_hand_end_period number)')\n",
    "conn.commit()\n",
    "\n",
    "candidate_finance.to_sql('Finance', conn, if_exists='replace', index = False)\n",
    "\n",
    "\n",
    "c.execute(\"SELECT * FROM Finance WHERE candidate_election_year = 2012\")\n",
    "\n",
    "for row in c.fetchall():\n",
    "    print (row)"
   ]
  },
  {
   "cell_type": "code",
   "execution_count": 35,
   "metadata": {},
   "outputs": [
    {
     "name": "stdout",
     "output_type": "stream",
     "text": [
      "(2016, 'P00003392', 'CLINTON, HILLARY RODHAM / TIMOTHY MICHAEL KAINE', 'DEMOCRATIC PARTY', 585699061.27, 585580576.76, 323317.48)\n",
      "(2016, 'P80001571', 'TRUMP, DONALD J. / MICHAEL R. PENCE ', 'REPUBLICAN PARTY', 350668435.7, 343056732.78, 7611702.92)\n",
      "(2016, 'P60007168', 'SANDERS, BERNARD', 'DEMOCRATIC PARTY', 237640609.52, 232185441.62, 5455167.9)\n",
      "(2016, 'P60006111', 'CRUZ, RAFAEL EDWARD \"TED\"', 'REPUBLICAN PARTY', 94338654.84, 94304803.32, 33851.52)\n",
      "(2016, 'P60005915', 'CARSON, BENJAMIN S SR MD', 'REPUBLICAN PARTY', 65091035.97, 64530285.46, 560750.51)\n",
      "(2016, 'P60006723', 'RUBIO, MARCO', 'REPUBLICAN PARTY', 48331861.99, 51557701.76, 112614.3)\n",
      "(2016, 'P60008059', 'BUSH, JEB', 'REPUBLICAN PARTY', 35491191.48, 35435885.43, 55306.05)\n",
      "(2016, 'P60003670', 'KASICH, JOHN R', 'REPUBLICAN PARTY', 19692691.23, 19534124.57, 158566.66)\n",
      "(2016, 'P40003576', 'PAUL, RAND', 'REPUBLICAN PARTY', 12458992.11, 12452499.19, 6492.92)\n",
      "(2016, 'P60007242', 'FIORINA, CARLY', 'REPUBLICAN PARTY', 12211897.41, 11412309.97, 799587.44)\n",
      "(2016, 'P20002671', 'JOHNSON, GARY / WILLIAM \"BILL\" WELD', 'LIBERTARIAN PARTY', 12193984.08, 12463110.51, 6299.61)\n",
      "(2016, 'P20003984', 'STEIN, JILL', 'GREEN PARTY', 11499548.55, 11513810.03, 127251.43)\n",
      "(2016, 'P60006046', 'WALKER, SCOTT', 'REPUBLICAN PARTY', 9509870.81, 9438000.85, 71869.96)\n",
      "(2016, 'P60008521', 'CHRISTIE, CHRISTOPHER J', 'REPUBLICAN PARTY', 8770288.76, 8742632.18, 27656.58)\n",
      "(2016, 'P60016342', 'DE  LA  FUENTE, ROQUE ROCKY', 'DEMOCRATIC PARTY', 8075959.73, 8074913.65, 1046.08)\n",
      "(2016, 'P60007671', \"O'MALLEY, MARTIN JOSEPH\", 'DEMOCRATIC PARTY', 6377550.42, 6285181.71, 92368.71)\n",
      "(2016, 'P60007697', 'GRAHAM, LINDSEY O', 'REPUBLICAN PARTY', 6010010.2, 6010010.2, 0.0)\n",
      "(2016, 'P80003478', 'HUCKABEE, MIKE', 'REPUBLICAN PARTY', 4335975.38, 4330417.8, 5557.58)\n",
      "(2016, 'P20002721', 'SANTORUM, RICHARD J.', 'REPUBLICAN PARTY', 2296044.14, 2312075.09, 110242.76)\n",
      "(2016, 'P60022654', 'MCMULLIN, EVAN / MINDY FINN', 'INDEPENDENT', 1644102.2, 1642165.87, 1936.33)\n"
     ]
    }
   ],
   "source": [
    "c.execute(\"SELECT * FROM Finance WHERE candidate_election_year = 2016\")\n",
    "\n",
    "for row in c.fetchall():\n",
    "    print (row)"
   ]
  },
  {
   "cell_type": "code",
   "execution_count": 38,
   "metadata": {},
   "outputs": [
    {
     "name": "stdout",
     "output_type": "stream",
     "text": [
      "  candidate_name  total_receipts\n",
      "0  OBAMA, BARACK    7.786430e+08\n"
     ]
    }
   ],
   "source": [
    "c.execute('''  \n",
    "SELECT candidate_name, max(total_receipts) FROM Finance\n",
    "          ''')\n",
    "\n",
    "max_receipts = pd.DataFrame(c.fetchall(), columns=['candidate_name','total_receipts'])    \n",
    "print (max_receipts)"
   ]
  },
  {
   "cell_type": "code",
   "execution_count": null,
   "metadata": {},
   "outputs": [],
   "source": []
  }
 ],
 "metadata": {
  "kernelspec": {
   "display_name": "Python 3",
   "language": "python",
   "name": "python3"
  },
  "language_info": {
   "codemirror_mode": {
    "name": "ipython",
    "version": 3
   },
   "file_extension": ".py",
   "mimetype": "text/x-python",
   "name": "python",
   "nbconvert_exporter": "python",
   "pygments_lexer": "ipython3",
   "version": "3.7.6"
  }
 },
 "nbformat": 4,
 "nbformat_minor": 4
}
