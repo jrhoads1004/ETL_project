{
 "cells": [
  {
   "cell_type": "code",
   "execution_count": 22,
   "metadata": {},
   "outputs": [],
   "source": [
    "import os\n",
    "import pandas as pd\n",
    "import numpy as np\n",
    "import pymongo\n",
    "from pymongo import MongoClient\n",
    "import datetime\n",
    "from bs4 import BeautifulSoup\n",
    "import requests\n",
    "import parser\n",
    "from pprint import pprint\n",
    "from flask import Flask, render_template\n",
    "import json\n"
   ]
  },
  {
   "cell_type": "code",
   "execution_count": 23,
   "metadata": {},
   "outputs": [],
   "source": [
    "conn = 'mongodb://localhost:27017'\n",
    "client = pymongo.MongoClient(conn)\n",
    "db = client.election_db\n",
    "candidate_collection = db.candidate"
   ]
  },
  {
   "cell_type": "code",
   "execution_count": 24,
   "metadata": {},
   "outputs": [],
   "source": [
    "# docs = [{\n",
    "#      \"year\": \"Year\",\n",
    "#      \"political_party\": 'REPUBLICAN or DEMOCRATIC', \n",
    "#      \"candidate_id\": \"Candidate ID\", \n",
    "#      \"vote_total\": \"PopularVote Total\",  \n",
    "#      'date': datetime.datetime.utcnow()\n",
    "#         }\n",
    "# ]\n"
   ]
  },
  {
   "cell_type": "code",
   "execution_count": 25,
   "metadata": {},
   "outputs": [],
   "source": [
    "# candidates_collection.insert_many(docs)"
   ]
  },
  {
   "cell_type": "code",
   "execution_count": 26,
   "metadata": {},
   "outputs": [],
   "source": [
    "jsonpath = os.path.join(\"Resources\", \"popular_votes_years.json\")\n",
    "\n",
    "with open(jsonpath) as datafile:\n",
    "    file_data = json.load(datafile)\n",
    "\n",
    "if isinstance(file_data, list): \n",
    "    candidate_collection.insert_many(file_data)   \n",
    "else: \n",
    "    candidate_collection.insert_one(file_data) \n",
    "\n"
   ]
  },
  {
   "cell_type": "code",
   "execution_count": null,
   "metadata": {},
   "outputs": [],
   "source": []
  },
  {
   "cell_type": "code",
   "execution_count": null,
   "metadata": {},
   "outputs": [],
   "source": []
  },
  {
   "cell_type": "code",
   "execution_count": null,
   "metadata": {},
   "outputs": [],
   "source": []
  }
 ],
 "metadata": {
  "kernelspec": {
   "display_name": "Python 3",
   "language": "python",
   "name": "python3"
  },
  "language_info": {
   "codemirror_mode": {
    "name": "ipython",
    "version": 3
   },
   "file_extension": ".py",
   "mimetype": "text/x-python",
   "name": "python",
   "nbconvert_exporter": "python",
   "pygments_lexer": "ipython3",
   "version": "3.8.3"
  }
 },
 "nbformat": 4,
 "nbformat_minor": 4
}
