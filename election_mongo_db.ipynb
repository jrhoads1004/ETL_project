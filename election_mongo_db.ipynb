{
 "cells": [
  {
   "cell_type": "code",
   "execution_count": 41,
   "metadata": {},
   "outputs": [],
   "source": [
    "import os\n",
    "import pandas as pd\n",
    "import numpy as np\n",
    "import pymongo\n",
    "from pymongo import MongoClient\n",
    "import datetime\n",
    "from bs4 import BeautifulSoup\n",
    "from config import api_key\n",
    "import requests\n",
    "import parser\n",
    "from sqlalchemy import create_engine\n",
    "from pprint import pprint\n",
    "from pandas.io.json import json_normalize\n"
   ]
  },
  {
   "cell_type": "code",
   "execution_count": 42,
   "metadata": {},
   "outputs": [],
   "source": [
    "conn = 'mongodb://localhost:27017'\n",
    "client = pymongo.MongoClient(conn)\n",
    "db = client.election_db\n",
    "candidates_collection = db.candidate"
   ]
  },
  {
   "cell_type": "code",
   "execution_count": 43,
   "metadata": {},
   "outputs": [],
   "source": [
    "docs = [{\n",
    "     \"year\": \"Year\",\n",
    "     \"political_party\": 'REPUBLICAN or DEMOCRATIC', \n",
    "     \"candidate_id\": \"Candidate ID\", \n",
    "     \"vote_total\": \"PopularVote Total\",  \n",
    "     'date': datetime.datetime.utcnow()\n",
    "        }\n",
    "]\n"
   ]
  },
  {
   "cell_type": "code",
   "execution_count": 44,
   "metadata": {},
   "outputs": [
    {
     "data": {
      "text/plain": [
       "<pymongo.results.InsertManyResult at 0x7fd0bbec6680>"
      ]
     },
     "execution_count": 44,
     "metadata": {},
     "output_type": "execute_result"
    }
   ],
   "source": [
    "candidates_collection.insert_many(docs)"
   ]
  },
  {
   "cell_type": "code",
   "execution_count": 45,
   "metadata": {},
   "outputs": [
    {
     "name": "stdout",
     "output_type": "stream",
     "text": [
      "{'_id': ObjectId('5f959516177ce29afb4a0f42'),\n",
      " 'candidate_id': 'Candidate ID',\n",
      " 'date': datetime.datetime(2020, 10, 25, 15, 8, 23, 352000),\n",
      " 'political_party': 'REPUBLICAN or DEMOCRATIC',\n",
      " 'vote_total': 'PopularVote Total',\n",
      " 'year': 'Year'}\n",
      "{'_id': ObjectId('5f95952d177ce29afb4a0f44'),\n",
      " 'candidate_id': 'Candidate ID',\n",
      " 'date': datetime.datetime(2020, 10, 25, 15, 9, 33, 398000),\n",
      " 'political_party': 'REPUBLICAN or DEMOCRATIC',\n",
      " 'vote_total': 'PopularVote Total',\n",
      " 'year': 'Year'}\n"
     ]
    }
   ],
   "source": [
    "for candidates in candidates_collection.find():\n",
    "    pprint(candidates)"
   ]
  },
  {
   "cell_type": "code",
   "execution_count": null,
   "metadata": {},
   "outputs": [],
   "source": []
  },
  {
   "cell_type": "code",
   "execution_count": null,
   "metadata": {},
   "outputs": [],
   "source": []
  },
  {
   "cell_type": "code",
   "execution_count": null,
   "metadata": {},
   "outputs": [],
   "source": []
  }
 ],
 "metadata": {
  "kernelspec": {
   "display_name": "Python 3",
   "language": "python",
   "name": "python3"
  },
  "language_info": {
   "codemirror_mode": {
    "name": "ipython",
    "version": 3
   },
   "file_extension": ".py",
   "mimetype": "text/x-python",
   "name": "python",
   "nbconvert_exporter": "python",
   "pygments_lexer": "ipython3",
   "version": "3.8.3"
  }
 },
 "nbformat": 4,
 "nbformat_minor": 4
}
